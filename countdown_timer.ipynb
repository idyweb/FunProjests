{
  "nbformat": 4,
  "nbformat_minor": 0,
  "metadata": {
    "colab": {
      "name": "countdown timer.ipynb",
      "provenance": [],
      "authorship_tag": "ABX9TyNB7DK6m7DMBzxTcqhflHTK",
      "include_colab_link": true
    },
    "kernelspec": {
      "name": "python3",
      "display_name": "Python 3"
    },
    "language_info": {
      "name": "python"
    }
  },
  "cells": [
    {
      "cell_type": "markdown",
      "metadata": {
        "id": "view-in-github",
        "colab_type": "text"
      },
      "source": [
        "<a href=\"https://colab.research.google.com/github/idyweb/FunProjests/blob/main/countdown_timer.ipynb\" target=\"_parent\"><img src=\"https://colab.research.google.com/assets/colab-badge.svg\" alt=\"Open In Colab\"/></a>"
      ]
    },
    {
      "cell_type": "code",
      "metadata": {
        "colab": {
          "base_uri": "https://localhost:8080/"
        },
        "id": "2oZbuCLp5a_f",
        "outputId": "9956932a-417b-4e81-9800-8e1f209f5ed9"
      },
      "source": [
        "#import libraries\n",
        "import time\n",
        "#create a function which our countdown runs on\n",
        "def countdown(t):\n",
        "  while t:\n",
        "    mins, secs = divmod(t, 60)\n",
        "    timer = '{:02d}:{:02d}'.format(mins, secs)\n",
        "    print(timer, end=\"\\r\")\n",
        "    time.sleep(1)\n",
        "    t -=1\n",
        "\n",
        "  print('Timer completed!')\n",
        "t = input('Enter the time in seconds: ')\n",
        "\n",
        "countdown(int(t))\n"
      ],
      "execution_count": 2,
      "outputs": [
        {
          "output_type": "stream",
          "text": [
            "Enter the time in seconds: 60\n",
            "Timer completed!\n"
          ],
          "name": "stdout"
        }
      ]
    },
    {
      "cell_type": "code",
      "metadata": {
        "id": "OenIvZ4f7JKG"
      },
      "source": [
        ""
      ],
      "execution_count": null,
      "outputs": []
    }
  ]
}