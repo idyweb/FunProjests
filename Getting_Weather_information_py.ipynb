{
  "nbformat": 4,
  "nbformat_minor": 0,
  "metadata": {
    "colab": {
      "name": "Getting Weather information.py",
      "provenance": [],
      "authorship_tag": "ABX9TyNdmt9VnkO16xbgTbQF4z+v",
      "include_colab_link": true
    },
    "kernelspec": {
      "name": "python3",
      "display_name": "Python 3"
    },
    "language_info": {
      "name": "python"
    }
  },
  "cells": [
    {
      "cell_type": "markdown",
      "metadata": {
        "id": "view-in-github",
        "colab_type": "text"
      },
      "source": [
        "<a href=\"https://colab.research.google.com/github/idyweb/FunProjests/blob/main/Getting_Weather_information_py.ipynb\" target=\"_parent\"><img src=\"https://colab.research.google.com/assets/colab-badge.svg\" alt=\"Open In Colab\"/></a>"
      ]
    },
    {
      "cell_type": "code",
      "metadata": {
        "colab": {
          "base_uri": "https://localhost:8080/",
          "height": 52
        },
        "id": "uM4fVSMzxhv_",
        "outputId": "827c61fe-31d1-41eb-887f-5da7b7c662bb"
      },
      "source": [
        "\"\"\"this is a program that will as a user to input any city or town, and its going to return the weather information of the place\"\"\""
      ],
      "execution_count": 3,
      "outputs": [
        {
          "output_type": "execute_result",
          "data": {
            "application/vnd.google.colaboratory.intrinsic+json": {
              "type": "string"
            },
            "text/plain": [
              "'this is a program that will as a user to input any city or town, and its going to return the weather information of the place'"
            ]
          },
          "metadata": {
            "tags": []
          },
          "execution_count": 3
        }
      ]
    },
    {
      "cell_type": "code",
      "metadata": {
        "id": "EDHacq8kyP-j"
      },
      "source": [
        "#we will use the open weather map API"
      ],
      "execution_count": 4,
      "outputs": []
    },
    {
      "cell_type": "code",
      "metadata": {
        "id": "bONqCngHy0N8"
      },
      "source": [
        "import requests\n",
        "from pprint import pprint"
      ],
      "execution_count": 5,
      "outputs": []
    },
    {
      "cell_type": "code",
      "metadata": {
        "colab": {
          "base_uri": "https://localhost:8080/"
        },
        "id": "UXWvLn-lzBD3",
        "outputId": "324bf278-c8c3-4ada-a5b5-7e0239b684a6"
      },
      "source": [
        "API_KEY = '8cb4f47cc183b52993062186bd3b177b'\n",
        "\n",
        "#enter the city you want to check\n",
        "city = input(\"Enter a city: \")\n",
        "\n",
        "#next base url which iss the url we are going to send the response to\n",
        "base_url = \"http://api.openweathermap.org/data/2.5/weather?appid=\"+API_KEY+\"&q=\"+city\n",
        "\n",
        "weather_data = requests.get(base_url).json()\n",
        "#pretty print it\n",
        "\n",
        "pprint(weather_data)\n",
        "\n"
      ],
      "execution_count": 15,
      "outputs": [
        {
          "output_type": "stream",
          "text": [
            "Enter a city: uyo\n",
            "{'base': 'stations',\n",
            " 'clouds': {'all': 39},\n",
            " 'cod': 200,\n",
            " 'coord': {'lat': 5.0333, 'lon': 7.9266},\n",
            " 'dt': 1616767886,\n",
            " 'id': 2319480,\n",
            " 'main': {'feels_like': 310.11,\n",
            "          'grnd_level': 999,\n",
            "          'humidity': 46,\n",
            "          'pressure': 1006,\n",
            "          'sea_level': 1006,\n",
            "          'temp': 307.22,\n",
            "          'temp_max': 307.22,\n",
            "          'temp_min': 307.22},\n",
            " 'name': 'Uyo',\n",
            " 'sys': {'country': 'NG', 'sunrise': 1616736582, 'sunset': 1616780279},\n",
            " 'timezone': 3600,\n",
            " 'visibility': 10000,\n",
            " 'weather': [{'description': 'scattered clouds',\n",
            "              'icon': '03d',\n",
            "              'id': 802,\n",
            "              'main': 'Clouds'}],\n",
            " 'wind': {'deg': 41, 'gust': 2.56, 'speed': 1.69}}\n"
          ],
          "name": "stdout"
        }
      ]
    },
    {
      "cell_type": "code",
      "metadata": {
        "id": "DnBJQt611Ywv"
      },
      "source": [
        ""
      ],
      "execution_count": null,
      "outputs": []
    }
  ]
}