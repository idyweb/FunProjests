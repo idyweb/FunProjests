{
  "nbformat": 4,
  "nbformat_minor": 0,
  "metadata": {
    "colab": {
      "name": "Bulk rename of file.ipynb",
      "provenance": [],
      "authorship_tag": "ABX9TyOHZzlOhvjO1FUCMcVUEoCD",
      "include_colab_link": true
    },
    "kernelspec": {
      "name": "python3",
      "display_name": "Python 3"
    },
    "language_info": {
      "name": "python"
    }
  },
  "cells": [
    {
      "cell_type": "markdown",
      "metadata": {
        "id": "view-in-github",
        "colab_type": "text"
      },
      "source": [
        "<a href=\"https://colab.research.google.com/github/idyweb/FunProjests/blob/main/Bulk_rename_of_file.ipynb\" target=\"_parent\"><img src=\"https://colab.research.google.com/assets/colab-badge.svg\" alt=\"Open In Colab\"/></a>"
      ]
    },
    {
      "cell_type": "code",
      "metadata": {
        "id": "wVPgvykBpdIU"
      },
      "source": [
        "#import os so python knows our operatig system\n",
        "import os"
      ],
      "execution_count": 1,
      "outputs": []
    },
    {
      "cell_type": "code",
      "metadata": {
        "id": "7J4bZnT9p4A4"
      },
      "source": [
        "#create a fuctio that renames multiple files\n",
        "def main():\n",
        "  i = 0\n",
        "  #path is the directory on our local pc which we are looking for\n",
        "  path = \"C:/Users/COCOBEE/Desktop/WALLPAPER/Twitter/\"\n",
        "  #use for loop to loop through everything\n",
        "  for filename in os.listdir(path):\n",
        " #my dest is like my destination\n",
        "      my_dest = \"wallpaper\" +str(i) + \".jpg\"\n",
        "      my_source =path + filename\n",
        "      my_dest =path + my_dest\n",
        "      #use os.rename to rename\n",
        "      os.rename(my_source, my_dest)\n",
        "      i +=1\n",
        "\n",
        "\n",
        "if __name__ == '__main__':\n",
        "  main()\n",
        "\n",
        "\n"
      ],
      "execution_count": null,
      "outputs": []
    },
    {
      "cell_type": "code",
      "metadata": {
        "id": "SkwX8w7SrfdQ"
      },
      "source": [
        ""
      ],
      "execution_count": null,
      "outputs": []
    }
  ]
}