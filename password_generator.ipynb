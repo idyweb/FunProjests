{
  "nbformat": 4,
  "nbformat_minor": 0,
  "metadata": {
    "colab": {
      "name": "password generator.ipynb",
      "provenance": [],
      "authorship_tag": "ABX9TyMuJGMioGe+hV02Mcd+vtHO",
      "include_colab_link": true
    },
    "kernelspec": {
      "name": "python3",
      "display_name": "Python 3"
    },
    "language_info": {
      "name": "python"
    }
  },
  "cells": [
    {
      "cell_type": "markdown",
      "metadata": {
        "id": "view-in-github",
        "colab_type": "text"
      },
      "source": [
        "<a href=\"https://colab.research.google.com/github/idyweb/FunProjests/blob/main/password_generator.ipynb\" target=\"_parent\"><img src=\"https://colab.research.google.com/assets/colab-badge.svg\" alt=\"Open In Colab\"/></a>"
      ]
    },
    {
      "cell_type": "code",
      "metadata": {
        "id": "IAiJqouf9PnH"
      },
      "source": [
        "#this program generates a very strong password for the user\n"
      ],
      "execution_count": 1,
      "outputs": []
    },
    {
      "cell_type": "code",
      "metadata": {
        "id": "eFQal20T9hDt"
      },
      "source": [
        "#import library\n",
        "import random"
      ],
      "execution_count": 2,
      "outputs": []
    },
    {
      "cell_type": "code",
      "metadata": {
        "colab": {
          "base_uri": "https://localhost:8080/"
        },
        "id": "ETPt0N8r95K_",
        "outputId": "17d7ffa2-28db-4484-d5cf-45194aed790d"
      },
      "source": [
        "print('Welcome To Your Password Generator')"
      ],
      "execution_count": 3,
      "outputs": [
        {
          "output_type": "stream",
          "text": [
            "Welcome To Your Password Generator\n"
          ],
          "name": "stdout"
        }
      ]
    },
    {
      "cell_type": "code",
      "metadata": {
        "colab": {
          "base_uri": "https://localhost:8080/"
        },
        "id": "gZA1duGC-BOs",
        "outputId": "ecfabe15-3690-4a14-eeb9-d27087ca6657"
      },
      "source": [
        "#create a variable\n",
        "chars = 'abcdefghijklmnopqrstuvwxyzABCDEFGHIJKLMNOPQRSTUVWXYZ!@#$%^&*().,?0123456789'\n",
        "\n",
        "#new variable\n",
        "#number of password a user wants to generate\n",
        "number = input('Amount Of Passwords to generate: ')\n",
        "#convert it to an integer\n",
        "number = int(number)\n",
        "\n",
        "#length of the password\n",
        "length = input('Input Your password length')\n",
        "length = int(length)\n",
        "\n",
        "print('\\nhere are your passwords: ')\n",
        "\n",
        "#create a forloop\n",
        "for password in range(number):\n",
        "  passwords = ''\n",
        "  for c in range(length):\n",
        "    passwords += random.choice(chars)\n",
        "  print(passwords)"
      ],
      "execution_count": 5,
      "outputs": [
        {
          "output_type": "stream",
          "text": [
            "Amount Of Passwords to generate: 2\n",
            "Input Your password length7\n",
            "\n",
            "here are your passwords: \n",
            "$$EC1Pq\n",
            "#nx6lx,\n"
          ],
          "name": "stdout"
        }
      ]
    },
    {
      "cell_type": "code",
      "metadata": {
        "id": "yMSBmEok_14E"
      },
      "source": [
        ""
      ],
      "execution_count": null,
      "outputs": []
    }
  ]
}